{
 "cells": [
  {
   "cell_type": "markdown",
   "metadata": {},
   "source": [
    "## Basic usage\n",
    "Initialize an instance of Daemon, then call update to scan the cwd and build the Knowledge Graph."
   ]
  },
  {
   "cell_type": "code",
   "execution_count": 29,
   "metadata": {},
   "outputs": [
    {
     "name": "stdout",
     "output_type": "stream",
     "text": [
      "245 Nodes\n"
     ]
    }
   ],
   "source": [
    "from pathlib import Path\n",
    "from ragdaemon.daemon import Daemon\n",
    "\n",
    "daemon = Daemon(Path.cwd())\n",
    "await daemon.update()\n",
    "print(len(daemon.graph.nodes), \"Nodes\")"
   ]
  },
  {
   "cell_type": "markdown",
   "metadata": {},
   "source": [
    "## Search\n",
    "Return be files, chunks of files (function, class, method or 'BASE'), or diffs (edits to a particular path and line range) sorted by embedding similarity.\n",
    "\n",
    "Each search result includes (among other things):\n",
    "1. `id`: Used as the id for nodes in the graph.\n",
    "    - For files and chunks, a relative path to cwd. e.g. `mentat/config.py:Config`.\n",
    "    - For diffs, its target location, e.g. `mentat/config.py:10-15`. \n",
    "2. `distance`: how related to query (lower is better)\n",
    "3. `ref`: path + line numbers, used to load the document.\n",
    "    - For files and chunks, relative path + lines, e.g. `mentat/config.py:10-15`\n",
    "    - For diffs, the diff target (\"DEFAULT\" if none provided) + lines in diff, e.g. `DEFAULT:4-10`\n",
    "4. `document`: The embedded content. Always f\"{id}\\n{content}\" so the path / filename is also embedded, and there are no duplicates.\n",
    "5. `checksum`: an md5 hash of the document, used as the chroma index."
   ]
  },
  {
   "cell_type": "code",
   "execution_count": 30,
   "metadata": {},
   "outputs": [
    {
     "name": "stdout",
     "output_type": "stream",
     "text": [
      "Fields: {'checksum', 'distance', 'ref', 'id', 'document', 'active', 'type'}\n",
      "1. ragdaemon/static/js/three/raycaster.js:BASE\n",
      "2. ragdaemon/static/js/three/raycaster.js\n",
      "3. ragdaemon/static/js/three/raycaster.js:getClickTarget\n",
      "4. ragdaemon/static/js/main.js:BASE\n",
      "5. ragdaemon/static/js/three/renderer.js\n",
      "\n",
      "Example Result:\n",
      "---active---\n",
      "True\n",
      "---checksum---\n",
      "ee0de86cb9a266dc9888b05f0342c4d0\n",
      "---id---\n",
      "ragdaemon/static/js/three/raycaster.js:getClickTarget\n",
      "---ref---\n",
      "ragdaemon/static/js/three/raycaster.js:10-28\n",
      "---type---\n",
      "chunk\n",
      "---document---\n",
      "ragdaemon/static/js/three/raycaster.js:10-28\n",
      "10:function getClickTarget(event, dblclick=false) {\n",
      "11:    // Calculate mouse position in normalized device coordinates\n",
      "12:    // (-1 to +1) for both components\n",
      "13:    mouse.x = (event.clientX / container.clientWidth) * 2 - 1;\n",
      "14:    mouse.y = - (event.clientY / container.clientHeight) * 2 + 1;\n",
      "15:\n",
      "16:    // Update the picking ray with the camera and mouse position\n",
      "17:    raycaster.setFromCamera(mouse, camera);\n",
      "18:\n",
      "19:    // Calculate objects intersecting the picking ray\n",
      "20:    // Filter objects by those that have a toggleSelected method\n",
      "21:    const clickables = dblclick\n",
      "22:        ? scene.children.filter(child => child.userData.handleDoubleClick)\n",
      "23:        : scene.children.filter(child => child.userData.handleClick);\n",
      "24:    const intersects = raycaster.intersectObjects(clickables)\n",
      "25:    if (intersects.length === 0) {\n",
      "26:        return null;\n",
      "27:    }\n",
      "28:    return intersects[0].object;\n",
      "\n",
      "---distance---\n",
      "0.421760618686676\n"
     ]
    }
   ],
   "source": [
    "results = daemon.search(\"raycaster\", n=5)\n",
    "for i, result in enumerate(results):\n",
    "    if i == 0:\n",
    "        fields = set(result.keys())\n",
    "        print(f\"Fields: {fields}\")\n",
    "    print(f\"{i+1}. {result['id']}\")\n",
    "\n",
    "print(\"\\nExample Result:\")\n",
    "for k, v in results[2].items():\n",
    "    print(f\"---{k}---\\n{v}\")"
   ]
  },
  {
   "cell_type": "markdown",
   "metadata": {},
   "source": [
    "## Get Context\n",
    "Return a `ContextBuilder` with the search results pre-loaded.\n",
    "\n",
    "The `ContextBuilder` contains\n",
    "1. Methods to 'include' individual nodes: `add_ref(file_or_chunk_ref)` and `add_diff(diff_id)`. \n",
    "2. A `.render()` method to produce a single string to send to an LLM\n",
    "3. All the logic related to how to sort, group and consolidate.\n",
    "\n",
    "You can\n",
    "- Call `daemon.get_context(query, auto_tokens).render()` straightaway for normal RAG\n",
    "- Call `daemon.get_context(\"\")` to return an empty context and add items manually\n",
    "- Pass a ContextBuilder to get_context using the 'context_builder=' to add search results to existing context."
   ]
  },
  {
   "cell_type": "code",
   "execution_count": 31,
   "metadata": {},
   "outputs": [
    {
     "name": "stdout",
     "output_type": "stream",
     "text": [
      "ragdaemon/static/js/three/raycaster.js (search-result)\n",
      "1:import scene from './scene.js';\n",
      "2:import camera from './camera.js';\n",
      "3:\n",
      "4:// Raycaster for mouse interaction\n",
      "5:const raycaster = new THREE.Raycaster();\n",
      "6:const mouse = new THREE.Vector2();\n",
      "7:raycaster.far = camera.far * 10; // Set the raycaster's maximum distance to the camera's far plane\n",
      "8:\n",
      "9:const container = document.getElementById('scene-container');\n",
      "10:function getClickTarget(event, dblclick=false) {\n",
      "11:    // Calculate mouse position in normalized device coordinates\n",
      "12:    // (-1 to +1) for both components\n",
      "13:    mouse.x = (event.clientX / container.clientWidth) * 2 - 1;\n",
      "14:    mouse.y = - (event.clientY / container.clientHeight) * 2 + 1;\n",
      "15:\n",
      "16:    // Update the picking ray with the camera and mouse position\n",
      "17:    raycaster.setFromCamera(mouse, camera);\n",
      "18:\n",
      "19:    // Calculate objects intersecting the picking ray\n",
      "20:    // Filter objects by those that have a toggleSelected method\n",
      "21:    const clickables = dblclick\n",
      "22:        ? scene.children.filter(child => child.userData.handleDoubleClick)\n",
      "23:        : scene.children.filter(child => child.userData.handleClick);\n",
      "24:    const intersects = raycaster.intersectObjects(clickables)\n",
      "25:    if (intersects.length === 0) {\n",
      "26:        return null;\n",
      "27:    }\n",
      "28:    return intersects[0].object;\n",
      "29:}\n",
      "30:\n",
      "31:// Add event listener for mouse clicks\n",
      "32:window.addEventListener('click', (event) => {\n",
      "33:    const target = getClickTarget(event);\n",
      "34:    if (target) {\n",
      "35:        target.userData.handleClick(event);\n",
      "36:    }\n",
      "37:}, false)\n",
      "38:\n",
      "39:window.addEventListener('dblclick', (event) => {\n",
      "40:    const target = getClickTarget(event);\n",
      "41:    if (target) {\n",
      "42:        target.userData.handleDoubleClick(event);\n",
      "43:    }\n",
      "44:}, false)\n",
      "45:\n",
      "46:export default raycaster;\n",
      "\n",
      "ragdaemon/static/js/main.js (search-result)\n",
      "1:import scene from './three/scene.js';\n",
      "2:import camera from './three/camera.js';\n",
      "3:import renderer from './three/renderer.js';\n",
      "4:import controls from './three/controls.js';\n",
      "5:import raycaster from './three/raycaster.js';\n",
      "6:import addNode from './three/node.js';\n",
      "7:import addEdge from './three/edge.js';\n",
      "8:\n",
      "9:import startControlPanel from './controlPanel.js';\n",
      "10:\n",
      "11:/*\n",
      "12:\n",
      "13:Global variables\n",
      "14:================\n",
      "15:nodes       array[object]\n",
      "16:edges       array[object]\n",
      "17:metadata    object\n",
      "18:SCALE       float\n",
      "19:NODE_RADIUS float\n",
      "20:*/\n",
      "21:let cameraTargetPosition = null;\n",
      "22:let cameraTargetLookAt = null;\n",
      "23:\n",
      "24:function lookAtSelectedNodes(selectedNodes) {\n",
      "25:    // Move the camera to fit all selected nodes in frame\n",
      "26:    const bbox = new THREE.Box3();\n",
      "27:    selectedNodes.forEach(sphere => {\n",
      "28:        bbox.expandByObject(sphere);\n",
      "29:    });\n",
      "30:\n",
      "31:    const center = bbox.getCenter(new THREE.Vector3());\n",
      "32:    const size = bbox.getSize(new THREE.Vector3());\n",
      "33:    const maxDim = Math.max(size.x, size.y, size.z);\n",
      "34:    const fov = 45;\n",
      "35:    const cameraDistance = maxDim / 2 / Math.tan(THREE.MathUtils.degToRad(fov / 2));\n",
      "36:    cameraTargetPosition = new THREE.Vector3(center.x, center.y, center.z + cameraDistance);\n",
      "37:    cameraTargetLookAt = center;\n",
      "38:}\n",
      "39:\n",
      "...\n",
      "51:\n",
      "...\n",
      "99:initialize();\n",
      "\n",
      "ragdaemon/static/js/three/renderer.js (search-result)\n",
      "1:const renderer = new THREE.WebGLRenderer();\n",
      "2:\n",
      "3:renderer.setSize(window.innerWidth, window.innerHeight);\n",
      "4:\n",
      "5:document.body.appendChild(renderer.domElement);\n",
      "6:\n",
      "7:export default renderer\n",
      "\n"
     ]
    }
   ],
   "source": [
    "print(daemon.get_context(\"raycaster\", auto_tokens=1000).render())"
   ]
  }
 ],
 "metadata": {
  "kernelspec": {
   "display_name": ".venv",
   "language": "python",
   "name": "python3"
  },
  "language_info": {
   "codemirror_mode": {
    "name": "ipython",
    "version": 3
   },
   "file_extension": ".py",
   "mimetype": "text/x-python",
   "name": "python",
   "nbconvert_exporter": "python",
   "pygments_lexer": "ipython3",
   "version": "3.11.7"
  }
 },
 "nbformat": 4,
 "nbformat_minor": 2
}
